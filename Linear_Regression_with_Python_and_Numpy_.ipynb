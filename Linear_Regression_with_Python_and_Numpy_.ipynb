{
  "nbformat": 4,
  "nbformat_minor": 0,
  "metadata": {
    "kernelspec": {
      "display_name": "Python 3",
      "language": "python",
      "name": "python3"
    },
    "language_info": {
      "codemirror_mode": {
        "name": "ipython",
        "version": 3
      },
      "file_extension": ".py",
      "mimetype": "text/x-python",
      "name": "python",
      "nbconvert_exporter": "python",
      "pygments_lexer": "ipython3",
      "version": "3.6.8"
    },
    "colab": {
      "name": "Linear Regression with Python and Numpy .ipynb",
      "provenance": []
    }
  },
  "cells": [
    {
      "cell_type": "code",
      "metadata": {
        "id": "tgBN_NOqFsqe",
        "colab_type": "code",
        "colab": {}
      },
      "source": [
        "%matplotlib inline\n",
        "\n",
        "import numpy as np\n",
        "import matplotlib.pyplot as plt"
      ],
      "execution_count": 1,
      "outputs": []
    },
    {
      "cell_type": "code",
      "metadata": {
        "id": "wLDTwh8nFsqy",
        "colab_type": "code",
        "colab": {}
      },
      "source": [
        "def generate_examples(num=1000):\n",
        "    W = [1.0, -3.0]\n",
        "    b = 1.0\n",
        "    \n",
        "    W = np.reshape(W, (2, 1))\n",
        "    \n",
        "    X = np.random.randn(num, 2)\n",
        "    y = b + np.dot(X, W) + np.random.randn()\n",
        "    \n",
        "    y = np.reshape(y, (num, 1))\n",
        "    \n",
        "    return X, y"
      ],
      "execution_count": 2,
      "outputs": []
    },
    {
      "cell_type": "code",
      "metadata": {
        "id": "IYL23zYVFsq3",
        "colab_type": "code",
        "colab": {}
      },
      "source": [
        "X, y = generate_examples()"
      ],
      "execution_count": 3,
      "outputs": []
    },
    {
      "cell_type": "code",
      "metadata": {
        "id": "RCEgu0wjFsq9",
        "colab_type": "code",
        "colab": {
          "base_uri": "https://localhost:8080/",
          "height": 34
        },
        "outputId": "7076dddc-7603-48a1-a601-594a01926fef"
      },
      "source": [
        "print(X.shape, y.shape)"
      ],
      "execution_count": 4,
      "outputs": [
        {
          "output_type": "stream",
          "text": [
            "(1000, 2) (1000, 1)\n"
          ],
          "name": "stdout"
        }
      ]
    },
    {
      "cell_type": "code",
      "metadata": {
        "id": "Swwgqm5rFsrF",
        "colab_type": "code",
        "colab": {
          "base_uri": "https://localhost:8080/",
          "height": 34
        },
        "outputId": "7a977d07-3c14-443f-a80f-46d4279d4580"
      },
      "source": [
        "print('X=', X[0], ' & y=', y[0])"
      ],
      "execution_count": 5,
      "outputs": [
        {
          "output_type": "stream",
          "text": [
            "X= [-1.3338573   0.62299596]  & y= [-1.95437046]\n"
          ],
          "name": "stdout"
        }
      ]
    },
    {
      "cell_type": "code",
      "metadata": {
        "id": "NzF_rCuRFsrP",
        "colab_type": "code",
        "colab": {}
      },
      "source": [
        "class Model:\n",
        "    def __init__(self, num_features):\n",
        "        self.num_features = num_features\n",
        "        self.W = np.random.randn(num_features, 1)\n",
        "        self.b = np.random.randn()"
      ],
      "execution_count": 6,
      "outputs": []
    },
    {
      "cell_type": "code",
      "metadata": {
        "id": "qxRaUXPwFsrW",
        "colab_type": "code",
        "colab": {
          "base_uri": "https://localhost:8080/",
          "height": 68
        },
        "outputId": "41fc67ec-e128-4a14-c316-6c8d79b11a72"
      },
      "source": [
        "model = Model(2)\n",
        "print('W=', model.W)\n",
        "print('b=', model.b)"
      ],
      "execution_count": 7,
      "outputs": [
        {
          "output_type": "stream",
          "text": [
            "W= [[-0.39336408]\n",
            " [ 1.15709635]]\n",
            "b= 2.0958612029573978\n"
          ],
          "name": "stdout"
        }
      ]
    },
    {
      "cell_type": "code",
      "metadata": {
        "id": "dDFAPgecFsrk",
        "colab_type": "code",
        "colab": {}
      },
      "source": [
        "class Model(Model):\n",
        "    def forward_pass(self, X):\n",
        "        y = self.b + np.dot(X, self.W)\n",
        "        return y"
      ],
      "execution_count": 8,
      "outputs": []
    },
    {
      "cell_type": "code",
      "metadata": {
        "id": "ziSYuWlkFsro",
        "colab_type": "code",
        "colab": {
          "base_uri": "https://localhost:8080/",
          "height": 34
        },
        "outputId": "a33aa230-1676-41ed-94aa-cc95c4213b4d"
      },
      "source": [
        "preds = Model(2).forward_pass(np.random.randn(4, 2))\n",
        "print(preds.shape)"
      ],
      "execution_count": 9,
      "outputs": [
        {
          "output_type": "stream",
          "text": [
            "(4, 1)\n"
          ],
          "name": "stdout"
        }
      ]
    },
    {
      "cell_type": "code",
      "metadata": {
        "id": "wmOyzt9XFsrt",
        "colab_type": "code",
        "colab": {}
      },
      "source": [
        "class Model(Model):\n",
        "    def compute_loss(self, y, y_true):\n",
        "        loss = np.sum(np.square(y - y_true))\n",
        "        return loss/(2*y.shape[0])"
      ],
      "execution_count": 10,
      "outputs": []
    },
    {
      "cell_type": "code",
      "metadata": {
        "id": "HwmVm0aPFsrz",
        "colab_type": "code",
        "colab": {}
      },
      "source": [
        "model = Model(2)\n",
        "\n",
        "preds = model.forward_pass(X)\n",
        "loss = model.compute_loss(y, preds)"
      ],
      "execution_count": 11,
      "outputs": []
    },
    {
      "cell_type": "code",
      "metadata": {
        "id": "2iGMrEMgFsr6",
        "colab_type": "code",
        "colab": {
          "base_uri": "https://localhost:8080/",
          "height": 34
        },
        "outputId": "23aabbd7-5ebf-4b8a-c3a3-fd6a862e7e46"
      },
      "source": [
        "loss"
      ],
      "execution_count": 12,
      "outputs": [
        {
          "output_type": "execute_result",
          "data": {
            "text/plain": [
              "8.501954958562838"
            ]
          },
          "metadata": {
            "tags": []
          },
          "execution_count": 12
        }
      ]
    },
    {
      "cell_type": "code",
      "metadata": {
        "id": "nMQuLU5fFssB",
        "colab_type": "code",
        "colab": {}
      },
      "source": [
        "class Model(Model):\n",
        "    def backward_pass(self, X, y_true, y_hat):\n",
        "        m = y_hat.shape[0]\n",
        "        db = np.sum(y_hat - y_true)/m\n",
        "        dW = np.sum(np.dot(np.transpose(y_hat - y_true), X), axis=0)/m\n",
        "        return dW, db"
      ],
      "execution_count": 13,
      "outputs": []
    },
    {
      "cell_type": "code",
      "metadata": {
        "id": "_eeKUCfuFssJ",
        "colab_type": "code",
        "colab": {}
      },
      "source": [
        "model = Model(2)\n",
        "X, y = generate_examples()\n",
        "y_hat = np.zeros(y.shape)\n",
        "\n",
        "dW, db = model.backward_pass(X, y, y_hat)"
      ],
      "execution_count": 14,
      "outputs": []
    },
    {
      "cell_type": "code",
      "metadata": {
        "id": "mbH_nV01FssV",
        "colab_type": "code",
        "colab": {
          "base_uri": "https://localhost:8080/",
          "height": 34
        },
        "outputId": "e9b59428-d692-4670-ed0a-4039b9c17557"
      },
      "source": [
        "print(dW.shape, db.shape)"
      ],
      "execution_count": 15,
      "outputs": [
        {
          "output_type": "stream",
          "text": [
            "(2,) ()\n"
          ],
          "name": "stdout"
        }
      ]
    },
    {
      "cell_type": "code",
      "metadata": {
        "id": "qcCsjY_ZFssh",
        "colab_type": "code",
        "colab": {}
      },
      "source": [
        "class Model(Model):\n",
        "    def update_params(self, dW, db, lr):\n",
        "        self.W = self.W - lr * np.reshape(dW, (self.num_features, 1))\n",
        "        self.b = self.b - lr * db"
      ],
      "execution_count": 16,
      "outputs": []
    },
    {
      "cell_type": "code",
      "metadata": {
        "id": "wReqxx-0Fssu",
        "colab_type": "code",
        "colab": {}
      },
      "source": [
        "class Model(Model):\n",
        "    def train(self, x_train, y_train, iterations, lr):\n",
        "        losses = []\n",
        "        for i in range(iterations):\n",
        "            y_hat = self.forward_pass(x_train)\n",
        "            dW, db = self.backward_pass(x_train, y_train, y_hat)\n",
        "            self.update_params(dW, db, lr)\n",
        "            loss = self.compute_loss(y_hat, y_train)\n",
        "            losses.append(loss)\n",
        "            if i % 100 == 0:\n",
        "                print('Iter: {}, Current loss: {:.4f}'.format(i, loss))\n",
        "        return losses"
      ],
      "execution_count": 17,
      "outputs": []
    },
    {
      "cell_type": "code",
      "metadata": {
        "id": "ZuWaAuhrFss3",
        "colab_type": "code",
        "colab": {}
      },
      "source": [
        "model = Model(2)"
      ],
      "execution_count": 18,
      "outputs": []
    },
    {
      "cell_type": "code",
      "metadata": {
        "id": "O51Gc9gUFss_",
        "colab_type": "code",
        "colab": {}
      },
      "source": [
        "X_train, y_train = generate_examples()"
      ],
      "execution_count": 19,
      "outputs": []
    },
    {
      "cell_type": "code",
      "metadata": {
        "id": "mG43y74uFstJ",
        "colab_type": "code",
        "colab": {
          "base_uri": "https://localhost:8080/",
          "height": 187
        },
        "outputId": "c9480c2f-b6d3-4688-84f9-257e621a1992"
      },
      "source": [
        "losses = model.train(X_train, y_train, 1000, 3e-3)"
      ],
      "execution_count": 20,
      "outputs": [
        {
          "output_type": "stream",
          "text": [
            "Iter: 0, Current loss: 7.1884\n",
            "Iter: 100, Current loss: 3.8363\n",
            "Iter: 200, Current loss: 2.0479\n",
            "Iter: 300, Current loss: 1.0935\n",
            "Iter: 400, Current loss: 0.5840\n",
            "Iter: 500, Current loss: 0.3120\n",
            "Iter: 600, Current loss: 0.1667\n",
            "Iter: 700, Current loss: 0.0891\n",
            "Iter: 800, Current loss: 0.0476\n",
            "Iter: 900, Current loss: 0.0255\n"
          ],
          "name": "stdout"
        }
      ]
    },
    {
      "cell_type": "code",
      "metadata": {
        "id": "P1mJTJirFstV",
        "colab_type": "code",
        "colab": {
          "base_uri": "https://localhost:8080/",
          "height": 265
        },
        "outputId": "e85f374d-167b-4b25-e790-6a3a72002890"
      },
      "source": [
        "plt.plot(range(1000), losses);"
      ],
      "execution_count": 21,
      "outputs": [
        {
          "output_type": "display_data",
          "data": {
            "image/png": "[encoded data removed]",
            "text/plain": [
              "<Figure size 432x288 with 1 Axes>"
            ]
          },
          "metadata": {
            "tags": [],
            "needs_background": "light"
          }
        }
      ]
    },
    {
      "cell_type": "code",
      "metadata": {
        "id": "yFNIoNRBFste",
        "colab_type": "code",
        "colab": {
          "base_uri": "https://localhost:8080/",
          "height": 374
        },
        "outputId": "cf6b98e2-ed52-4197-cb36-117b694e4478"
      },
      "source": [
        "model_untrained = Model(2)\n",
        "\n",
        "X_test, y_test = generate_examples(500)\n",
        "y_test = np.reshape(y_test, (y_test.shape[0], 1))\n",
        "\n",
        "preds_untrained = model_untrained.forward_pass(X_test)\n",
        "preds_trained = model.forward_pass(X_test)\n",
        "\n",
        "plt.figure(figsize=(6, 6))\n",
        "plt.plot(preds_untrained, y_test, 'rx')\n",
        "plt.plot(preds_trained, y_test, 'bo')\n",
        "plt.show()"
      ],
      "execution_count": 22,
      "outputs": [
        {
          "output_type": "display_data",
          "data": {
            "image/png": "[encoded data removed]",
            "text/plain": [
              "<Figure size 432x432 with 1 Axes>"
            ]
          },
          "metadata": {
            "tags": [],
            "needs_background": "light"
          }
        }
      ]
    },
    {
      "cell_type": "code",
      "metadata": {
        "id": "WutDuUrBFstl",
        "colab_type": "code",
        "colab": {
          "base_uri": "https://localhost:8080/",
          "height": 51
        },
        "outputId": "1773a70d-03d6-4ef3-cf93-2fc95ecebd87"
      },
      "source": [
        "model.W"
      ],
      "execution_count": 23,
      "outputs": [
        {
          "output_type": "execute_result",
          "data": {
            "text/plain": [
              "array([[ 0.93509117],\n",
              "       [-2.87243568]])"
            ]
          },
          "metadata": {
            "tags": []
          },
          "execution_count": 23
        }
      ]
    },
    {
      "cell_type": "code",
      "metadata": {
        "id": "Ps99o5lVFsts",
        "colab_type": "code",
        "colab": {
          "base_uri": "https://localhost:8080/",
          "height": 34
        },
        "outputId": "3e870d0c-ab98-4d95-bddd-937dcae921c0"
      },
      "source": [
        "model.b"
      ],
      "execution_count": 24,
      "outputs": [
        {
          "output_type": "execute_result",
          "data": {
            "text/plain": [
              "1.1170917078722231"
            ]
          },
          "metadata": {
            "tags": []
          },
          "execution_count": 24
        }
      ]
    },
    {
      "cell_type": "code",
      "metadata": {
        "id": "imRoDUCzFstz",
        "colab_type": "code",
        "colab": {}
      },
      "source": [
        ""
      ],
      "execution_count": null,
      "outputs": []
    }
  ]
}